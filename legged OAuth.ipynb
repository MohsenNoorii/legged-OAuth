{
 "cells": [
  {
   "cell_type": "code",
   "execution_count": 7,
   "id": "a4ea9f7f",
   "metadata": {},
   "outputs": [
    {
     "name": "stdout",
     "output_type": "stream",
     "text": [
      "https://api.twitter.com/oauth/authorize?oauth_token=jn3wAgAAAAABQaa5AAABg12QvB0\n",
      "Input PIN: 1314634\n",
      "1150031605819465728-Hs1vJMdap9qmZIFsIY02phH0yaRTmm\n",
      "gBbQzd1UJGHzgjIPndsWsWeERzx7pIqYQJbcQ6r5KY6kx\n"
     ]
    }
   ],
   "source": [
    "import tweepy\n",
    "\n",
    "oauth1_user_handler = tweepy.OAuth1UserHandler(\n",
    "    \"4GXexMbjSmrMuWPhEE5SPIxEw\", \"08wu6UDYT4BWLIoFvIrnPzyNFg7u7MTeke1P56SXVaAPFS3B3R\",\n",
    "    callback=\"oob\"\n",
    ")\n",
    "print(oauth1_user_handler.get_authorization_url())\n",
    "verifier = input(\"Input PIN: \")\n",
    "access_token, access_token_secret = oauth1_user_handler.get_access_token(\n",
    "    verifier\n",
    ")\n",
    "print(access_token)\n",
    "print(access_token_secret)"
   ]
  },
  {
   "cell_type": "code",
   "execution_count": 3,
   "id": "0af555be",
   "metadata": {},
   "outputs": [
    {
     "name": "stdout",
     "output_type": "stream",
     "text": [
      "Collecting python-dotenv\n",
      "  Downloading python_dotenv-0.21.0-py3-none-any.whl (18 kB)\n",
      "Installing collected packages: python-dotenv\n",
      "Successfully installed python-dotenv-0.21.0\n",
      "Note: you may need to restart the kernel to use updated packages.\n"
     ]
    }
   ],
   "source": []
  },
  {
   "cell_type": "code",
   "execution_count": null,
   "id": "5e0da440",
   "metadata": {},
   "outputs": [],
   "source": []
  }
 ],
 "metadata": {
  "kernelspec": {
   "display_name": "Python 3 (ipykernel)",
   "language": "python",
   "name": "python3"
  },
  "language_info": {
   "codemirror_mode": {
    "name": "ipython",
    "version": 3
   },
   "file_extension": ".py",
   "mimetype": "text/x-python",
   "name": "python",
   "nbconvert_exporter": "python",
   "pygments_lexer": "ipython3",
   "version": "3.10.6"
  }
 },
 "nbformat": 4,
 "nbformat_minor": 5
}
